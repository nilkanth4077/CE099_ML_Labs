{
  "nbformat": 4,
  "nbformat_minor": 0,
  "metadata": {
    "colab": {
      "provenance": []
    },
    "kernelspec": {
      "name": "python3",
      "display_name": "Python 3"
    },
    "language_info": {
      "name": "python"
    }
  },
  "cells": [
    {
      "cell_type": "code",
      "source": [
        "# Step 1: Import Libraries\n",
        "import numpy as np\n",
        "import pandas as pd\n",
        "from sklearn.preprocessing import LabelEncoder,OneHotEncoder\n",
        "\n",
        "# Step 2: Load Data\n",
        "datasets = pd.read_csv('Data_for_Categorical_Values.csv')\n",
        "# print(\"\\nData :\\n\",datasets)\n",
        "# print(\"\\nData statistics\\n\",datasets.describe())\n",
        "\n",
        "# Step 3: Seprate Input and Output attributes\n",
        "\n",
        "# All rows, all columns except last\n",
        "X = datasets.iloc[:, :-1].values\n",
        "\n",
        "# Only last column\n",
        "Y = datasets.iloc[:, -1].values\n",
        "# print(\"\\n\\nInput : \\n\", X)\n",
        "# print(\"\\n\\nOutput: \\n\", Y)\n",
        "\n",
        "# Step 4a: Apply LabelEncoder on the data\n",
        "\n",
        "# to convert country names into numeric values\n",
        "le = LabelEncoder()\n",
        "X[ : ,0] = le.fit_transform(X[ : ,0])\n",
        "# print(\"\\n\\nInput : \\n\", X)\n",
        "\n",
        "# Step 4b: Use dummy variables from pandas library\n",
        "\n",
        "# to create one column for each country\n",
        "dummy = pd.get_dummies(datasets['Country'])\n",
        "# print(\"\\n\\nDummy :\\n\",dummy)\n",
        "datasets = datasets.drop(['Country','Purchased'],axis=1)\n",
        "datasets = pd.concat([dummy,datasets],axis=1)\n",
        "# print(\"\\n\\nFinal Data :\\n\",datasets)\n",
        "\n",
        "#Use One Hot Encoder from scikit learn\n",
        "onehotencoder = OneHotEncoder()\n",
        "\n",
        "#reshape the 1-D country array to 2-D as fit_transform expects 2-D and finally fit the object\n",
        "x = onehotencoder.fit_transform(datasets.Age.values.reshape(-1,1)).toarray()\n",
        "x"
      ],
      "metadata": {
        "colab": {
          "base_uri": "https://localhost:8080/"
        },
        "id": "eKxBa7ModXFv",
        "outputId": "0927e0a9-02f0-44e3-a665-ef0e1585a6dc"
      },
      "execution_count": null,
      "outputs": [
        {
          "output_type": "execute_result",
          "data": {
            "text/plain": [
              "array([[0., 0., 0., 0., 0., 0., 0., 1., 0., 0., 0.],\n",
              "       [1., 0., 0., 0., 0., 0., 0., 0., 0., 0., 0.],\n",
              "       [0., 1., 0., 0., 0., 0., 0., 0., 0., 0., 0.],\n",
              "       [0., 0., 0., 0., 1., 0., 0., 0., 0., 0., 0.],\n",
              "       [0., 0., 0., 0., 0., 0., 1., 0., 0., 0., 0.],\n",
              "       [0., 0., 1., 0., 0., 0., 0., 0., 0., 0., 0.],\n",
              "       [0., 0., 0., 0., 0., 1., 0., 0., 0., 0., 0.],\n",
              "       [0., 0., 0., 0., 0., 0., 0., 0., 0., 1., 0.],\n",
              "       [0., 0., 0., 0., 0., 0., 0., 0., 0., 0., 1.],\n",
              "       [0., 0., 0., 1., 0., 0., 0., 0., 0., 0., 0.],\n",
              "       [0., 0., 0., 0., 0., 0., 0., 0., 1., 0., 0.]])"
            ]
          },
          "metadata": {},
          "execution_count": 17
        }
      ]
    },
    {
      "cell_type": "code",
      "source": [
        "from sklearn import preprocessing\n",
        "from sklearn.naive_bayes import GaussianNB, MultinomialNB\n",
        "\n",
        "weather = ['Sunny', 'Sunny', 'Overcast', 'Rainy', 'Rainy','Rainy', 'Overcast','Sunny', 'Sunny', 'Rainy', 'Sunny', 'Overcast', 'Overcast', 'Rainy']\n",
        "temp = ['Hot','Hot','Hot','Mild','Cool','Cool','Cool','Mild','Cool','Mild','Mild','Mild','Hot','Mild']\n",
        "play=['No','No','Yes','Yes','Yes','No','Yes','No','Yes','Yes','Yes','Yes','Yes','No']\n",
        "\n",
        "le = preprocessing.LabelEncoder()\n",
        "\n",
        "weather_encoded = le.fit_transform(weather)\n",
        "print(\"Weather: \",weather_encoded)\n",
        "temp_encoded = le.fit_transform(temp)\n",
        "print(\"Temp: \",temp_encoded)\n",
        "label = le.fit_transform(play)\n",
        "print(\"Play: \",label)\n",
        "\n",
        "# overcast: 0, rainy: 1, sunny: 2\n",
        "#     cool: 0,   hot: 1,  mild: 2\n",
        "\n",
        "features = tuple(zip(weather_encoded,temp_encoded))\n",
        "print(\"\\nFeatures:  \",features)\n",
        "\n",
        "model = MultinomialNB()\n",
        "model.fit(features,label)\n",
        "\n",
        "predicted = model.predict([[0,2]])\n",
        "print(\"\\nPrediction for 'overcast' & 'hot': \",predicted)\n",
        "predicted = model.predict([[1,1]])\n",
        "print(\"Prediction for 'rainy' & 'hot': \",predicted)\n",
        "predicted = model.predict([[2,2]])\n",
        "print(\"Prediction for 'sunny' & 'mild': \",predicted)"
      ],
      "metadata": {
        "colab": {
          "base_uri": "https://localhost:8080/"
        },
        "id": "4f8qKkUnoq-S",
        "outputId": "ac62e260-095e-48b8-b9b8-5f35af1c4db1"
      },
      "execution_count": null,
      "outputs": [
        {
          "output_type": "stream",
          "name": "stdout",
          "text": [
            "Weather:  [2 2 0 1 1 1 0 2 2 1 2 0 0 1]\n",
            "Temp:  [1 1 1 2 0 0 0 2 0 2 2 2 1 2]\n",
            "Play:  [0 0 1 1 1 0 1 0 1 1 1 1 1 0]\n",
            "\n",
            "Features:   ((2, 1), (2, 1), (0, 1), (1, 2), (1, 0), (1, 0), (0, 0), (2, 2), (2, 0), (1, 2), (2, 2), (0, 2), (0, 1), (1, 2))\n",
            "\n",
            "Prediction for 'overcast' & 'hot':  [1]\n",
            "Prediction for 'rainy' & 'hot':  [1]\n",
            "Prediction for 'sunny' & 'mild':  [1]\n"
          ]
        }
      ]
    },
    {
      "cell_type": "code",
      "source": [
        "import numpy as np\n",
        "from sklearn import datasets\n",
        "from sklearn.naive_bayes import GaussianNB\n",
        "\n",
        "iris = datasets.load_iris()\n",
        "# print(iris)\n",
        "print(\"Features: \",iris.feature_names)\n",
        "print(\"Labels: \",iris.target_names)\n",
        "\n",
        "# print(\"\\nData: \",iris.data)\n",
        "# print(\"Target: \",iris.target)\n",
        "\n",
        "print(\"\\nData shape: \",iris.data.shape)\n",
        "print(\"Target shape: \",iris.target.shape)\n",
        "\n",
        "print(\"\\nData type: \",type(iris.data))\n",
        "newdata = iris.data[50:,:]\n",
        "newtarget = iris.target[50:]\n",
        "\n",
        "print(\"New Data shape: \",newdata.shape)\n",
        "print(\"New Traget shape: \",newtarget.shape)"
      ],
      "metadata": {
        "colab": {
          "base_uri": "https://localhost:8080/"
        },
        "id": "-0uhO99YuTvo",
        "outputId": "910aea17-4950-41ac-982d-e59009d408e5"
      },
      "execution_count": null,
      "outputs": [
        {
          "output_type": "stream",
          "name": "stdout",
          "text": [
            "Features:  ['sepal length (cm)', 'sepal width (cm)', 'petal length (cm)', 'petal width (cm)']\n",
            "Labels:  ['setosa' 'versicolor' 'virginica']\n",
            "\n",
            "Data shape:  (150, 4)\n",
            "Target shape:  (150,)\n",
            "\n",
            "Data type:  <class 'numpy.ndarray'>\n",
            "New Data shape:  (100, 4)\n",
            "New Traget shape:  (100,)\n"
          ]
        }
      ]
    }
  ]
}